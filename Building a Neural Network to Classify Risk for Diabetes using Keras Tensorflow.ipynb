{
 "cells": [
  {
   "cell_type": "markdown",
   "metadata": {},
   "source": [
    "# Objective:\n",
    "- Build a neural network using Keras to classify risk for diabetes"
   ]
  },
  {
   "cell_type": "markdown",
   "metadata": {},
   "source": [
    "# Content: \n",
    "1. Import required libraries\n",
    "2. Load data (prima-indians-diabetes)\n",
    "3. Preprocess the data\n",
    "4. Build an neural network model\n",
    "5. Check and save the model"
   ]
  },
  {
   "cell_type": "markdown",
   "metadata": {},
   "source": [
    "## 1. Import required libraries"
   ]
  },
  {
   "cell_type": "code",
   "execution_count": 4,
   "metadata": {},
   "outputs": [],
   "source": [
    "# Import using \"tensorflow.\" to avoid possible incompatabilities due to variances in libraries' versions\n",
    "from tensorflow.keras.models import Sequential\n",
    "from tensorflow.keras.layers import Dense, Dropout\n",
    "from sklearn.model_selection import train_test_split\n",
    "import pandas as pd\n",
    "import numpy\n",
    "import tensorflow as tf\n",
    "\n",
    "# random seed for reproducibility\n",
    "numpy.random.seed(2)\n"
   ]
  },
  {
   "cell_type": "markdown",
   "metadata": {},
   "source": [
    "## 2. Load the data"
   ]
  },
  {
   "cell_type": "code",
   "execution_count": 10,
   "metadata": {},
   "outputs": [],
   "source": [
    "# loading load prima indians diabetes dataset, past 5 years of medical history \n",
    "dataset = numpy.loadtxt(\"prima-indians-diabetes.csv\", delimiter=\",\")"
   ]
  },
  {
   "cell_type": "code",
   "execution_count": 17,
   "metadata": {},
   "outputs": [
    {
     "data": {
      "text/plain": [
       "(768, 9)"
      ]
     },
     "execution_count": 17,
     "metadata": {},
     "output_type": "execute_result"
    }
   ],
   "source": [
    "dataset.shape"
   ]
  },
  {
   "cell_type": "code",
   "execution_count": 9,
   "metadata": {},
   "outputs": [],
   "source": [
    "# Turn the data into a panda data frame for checking\n",
    "data = pd.read_csv(\"prima-indians-diabetes.csv\")"
   ]
  },
  {
   "cell_type": "code",
   "execution_count": 18,
   "metadata": {},
   "outputs": [
    {
     "data": {
      "text/plain": [
       "(767, 9)"
      ]
     },
     "execution_count": 18,
     "metadata": {},
     "output_type": "execute_result"
    }
   ],
   "source": [
    "data.shape"
   ]
  },
  {
   "cell_type": "markdown",
   "metadata": {},
   "source": [
    "## 3. Preprocess the data"
   ]
  },
  {
   "cell_type": "code",
   "execution_count": 11,
   "metadata": {
    "scrolled": true
   },
   "outputs": [
    {
     "data": {
      "text/html": [
       "<div>\n",
       "<style scoped>\n",
       "    .dataframe tbody tr th:only-of-type {\n",
       "        vertical-align: middle;\n",
       "    }\n",
       "\n",
       "    .dataframe tbody tr th {\n",
       "        vertical-align: top;\n",
       "    }\n",
       "\n",
       "    .dataframe thead th {\n",
       "        text-align: right;\n",
       "    }\n",
       "</style>\n",
       "<table border=\"1\" class=\"dataframe\">\n",
       "  <thead>\n",
       "    <tr style=\"text-align: right;\">\n",
       "      <th></th>\n",
       "      <th>6</th>\n",
       "      <th>148</th>\n",
       "      <th>72</th>\n",
       "      <th>35</th>\n",
       "      <th>0</th>\n",
       "      <th>33.6</th>\n",
       "      <th>0.627</th>\n",
       "      <th>50</th>\n",
       "      <th>1</th>\n",
       "    </tr>\n",
       "  </thead>\n",
       "  <tbody>\n",
       "    <tr>\n",
       "      <th>0</th>\n",
       "      <td>1</td>\n",
       "      <td>85</td>\n",
       "      <td>66</td>\n",
       "      <td>29</td>\n",
       "      <td>0</td>\n",
       "      <td>26.6</td>\n",
       "      <td>0.351</td>\n",
       "      <td>31</td>\n",
       "      <td>0</td>\n",
       "    </tr>\n",
       "    <tr>\n",
       "      <th>1</th>\n",
       "      <td>8</td>\n",
       "      <td>183</td>\n",
       "      <td>64</td>\n",
       "      <td>0</td>\n",
       "      <td>0</td>\n",
       "      <td>23.3</td>\n",
       "      <td>0.672</td>\n",
       "      <td>32</td>\n",
       "      <td>1</td>\n",
       "    </tr>\n",
       "    <tr>\n",
       "      <th>2</th>\n",
       "      <td>1</td>\n",
       "      <td>89</td>\n",
       "      <td>66</td>\n",
       "      <td>23</td>\n",
       "      <td>94</td>\n",
       "      <td>28.1</td>\n",
       "      <td>0.167</td>\n",
       "      <td>21</td>\n",
       "      <td>0</td>\n",
       "    </tr>\n",
       "    <tr>\n",
       "      <th>3</th>\n",
       "      <td>0</td>\n",
       "      <td>137</td>\n",
       "      <td>40</td>\n",
       "      <td>35</td>\n",
       "      <td>168</td>\n",
       "      <td>43.1</td>\n",
       "      <td>2.288</td>\n",
       "      <td>33</td>\n",
       "      <td>1</td>\n",
       "    </tr>\n",
       "    <tr>\n",
       "      <th>4</th>\n",
       "      <td>5</td>\n",
       "      <td>116</td>\n",
       "      <td>74</td>\n",
       "      <td>0</td>\n",
       "      <td>0</td>\n",
       "      <td>25.6</td>\n",
       "      <td>0.201</td>\n",
       "      <td>30</td>\n",
       "      <td>0</td>\n",
       "    </tr>\n",
       "  </tbody>\n",
       "</table>\n",
       "</div>"
      ],
      "text/plain": [
       "   6  148  72  35    0  33.6  0.627  50  1\n",
       "0  1   85  66  29    0  26.6  0.351  31  0\n",
       "1  8  183  64   0    0  23.3  0.672  32  1\n",
       "2  1   89  66  23   94  28.1  0.167  21  0\n",
       "3  0  137  40  35  168  43.1  2.288  33  1\n",
       "4  5  116  74   0    0  25.6  0.201  30  0"
      ]
     },
     "execution_count": 11,
     "metadata": {},
     "output_type": "execute_result"
    }
   ],
   "source": [
    "data.head()"
   ]
  },
  {
   "cell_type": "code",
   "execution_count": 12,
   "metadata": {},
   "outputs": [],
   "source": [
    "# split into input (X) and output (Y) variables, splitting csv data\n",
    "X = dataset[:,0:8]\n",
    "Y = dataset[:,8]"
   ]
  },
  {
   "cell_type": "code",
   "execution_count": 13,
   "metadata": {},
   "outputs": [],
   "source": [
    "\n",
    "# split X, Y into a train and test set\n",
    "x_train, x_test, y_train, y_test = train_test_split(X, Y, test_size=0.2, random_state=42)\n"
   ]
  },
  {
   "cell_type": "code",
   "execution_count": 16,
   "metadata": {},
   "outputs": [
    {
     "data": {
      "text/plain": [
       "(768, 8)"
      ]
     },
     "execution_count": 16,
     "metadata": {},
     "output_type": "execute_result"
    }
   ],
   "source": [
    "# Check X dimention\n",
    "X.shape\n"
   ]
  },
  {
   "cell_type": "code",
   "execution_count": 15,
   "metadata": {},
   "outputs": [
    {
     "data": {
      "text/plain": [
       "(768,)"
      ]
     },
     "execution_count": 15,
     "metadata": {},
     "output_type": "execute_result"
    }
   ],
   "source": [
    "# Check Y dimention\n",
    "Y.shape"
   ]
  },
  {
   "cell_type": "markdown",
   "metadata": {},
   "source": [
    "## 4. Build a neural network model"
   ]
  },
  {
   "cell_type": "code",
   "execution_count": 19,
   "metadata": {},
   "outputs": [],
   "source": [
    "# create model, add dense layers one by one specifying activation function\n",
    "model = Sequential()\n",
    "model.add(Dense(15, input_dim=8, activation='relu')) # input layer requires input_dim param\n",
    "model.add(Dense(10, activation='relu'))\n",
    "model.add(Dense(8, activation='relu'))\n",
    "model.add(Dropout(.2))\n",
    "model.add(Dense(1, activation='sigmoid')) # sigmoid instead of relu for final probability between 0 and 1"
   ]
  },
  {
   "cell_type": "code",
   "execution_count": 20,
   "metadata": {},
   "outputs": [],
   "source": [
    "# compile the model, adam gradient descent (optimized)\n",
    "model.compile(loss=\"binary_crossentropy\", \n",
    "              optimizer=\"adam\", \n",
    "              metrics=['accuracy'])"
   ]
  },
  {
   "cell_type": "code",
   "execution_count": 22,
   "metadata": {},
   "outputs": [
    {
     "name": "stdout",
     "output_type": "stream",
     "text": [
      "Train on 614 samples, validate on 154 samples\n",
      "Epoch 1/100\n",
      "614/614 [==============================] - 0s 83us/step - loss: 0.3943 - acc: 0.7801 - val_loss: 0.8110 - val_acc: 0.6883\n",
      "Epoch 2/100\n",
      "614/614 [==============================] - 0s 68us/step - loss: 0.3963 - acc: 0.7752 - val_loss: 0.7790 - val_acc: 0.6299\n",
      "Epoch 3/100\n",
      "614/614 [==============================] - 0s 57us/step - loss: 0.4154 - acc: 0.7638 - val_loss: 0.7876 - val_acc: 0.6753\n",
      "Epoch 4/100\n",
      "614/614 [==============================] - 0s 52us/step - loss: 0.3917 - acc: 0.7655 - val_loss: 0.8290 - val_acc: 0.6558\n",
      "Epoch 5/100\n",
      "614/614 [==============================] - 0s 50us/step - loss: 0.4054 - acc: 0.7834 - val_loss: 0.9272 - val_acc: 0.7078\n",
      "Epoch 6/100\n",
      "614/614 [==============================] - 0s 54us/step - loss: 0.4015 - acc: 0.7834 - val_loss: 0.7302 - val_acc: 0.6883\n",
      "Epoch 7/100\n",
      "614/614 [==============================] - 0s 49us/step - loss: 0.4009 - acc: 0.7850 - val_loss: 0.7626 - val_acc: 0.6364\n",
      "Epoch 8/100\n",
      "614/614 [==============================] - 0s 59us/step - loss: 0.4033 - acc: 0.7752 - val_loss: 0.8400 - val_acc: 0.7208\n",
      "Epoch 9/100\n",
      "614/614 [==============================] - 0s 52us/step - loss: 0.4061 - acc: 0.7720 - val_loss: 0.7499 - val_acc: 0.6688\n",
      "Epoch 10/100\n",
      "614/614 [==============================] - 0s 50us/step - loss: 0.4254 - acc: 0.7459 - val_loss: 0.8381 - val_acc: 0.6104\n",
      "Epoch 11/100\n",
      "614/614 [==============================] - 0s 52us/step - loss: 0.4474 - acc: 0.7313 - val_loss: 0.7993 - val_acc: 0.7532\n",
      "Epoch 12/100\n",
      "614/614 [==============================] - 0s 52us/step - loss: 0.4135 - acc: 0.7638 - val_loss: 0.7369 - val_acc: 0.6948\n",
      "Epoch 13/100\n",
      "614/614 [==============================] - 0s 50us/step - loss: 0.4021 - acc: 0.7850 - val_loss: 0.7528 - val_acc: 0.6558\n",
      "Epoch 14/100\n",
      "614/614 [==============================] - 0s 54us/step - loss: 0.4000 - acc: 0.7818 - val_loss: 0.8135 - val_acc: 0.6948\n",
      "Epoch 15/100\n",
      "614/614 [==============================] - 0s 50us/step - loss: 0.4041 - acc: 0.7899 - val_loss: 0.8954 - val_acc: 0.7338\n",
      "Epoch 16/100\n",
      "614/614 [==============================] - 0s 50us/step - loss: 0.3993 - acc: 0.7752 - val_loss: 0.6958 - val_acc: 0.6623\n",
      "Epoch 17/100\n",
      "614/614 [==============================] - 0s 50us/step - loss: 0.4389 - acc: 0.7752 - val_loss: 0.8845 - val_acc: 0.7273\n",
      "Epoch 18/100\n",
      "614/614 [==============================] - 0s 49us/step - loss: 0.3815 - acc: 0.8111 - val_loss: 0.8493 - val_acc: 0.7013\n",
      "Epoch 19/100\n",
      "614/614 [==============================] - 0s 59us/step - loss: 0.4113 - acc: 0.7590 - val_loss: 0.7966 - val_acc: 0.6883\n",
      "Epoch 20/100\n",
      "614/614 [==============================] - 0s 50us/step - loss: 0.3954 - acc: 0.7883 - val_loss: 0.7934 - val_acc: 0.6753\n",
      "Epoch 21/100\n",
      "614/614 [==============================] - 0s 50us/step - loss: 0.4036 - acc: 0.7785 - val_loss: 0.8174 - val_acc: 0.7403\n",
      "Epoch 22/100\n",
      "614/614 [==============================] - 0s 52us/step - loss: 0.3967 - acc: 0.7818 - val_loss: 0.8138 - val_acc: 0.6623\n",
      "Epoch 23/100\n",
      "614/614 [==============================] - 0s 59us/step - loss: 0.4012 - acc: 0.7818 - val_loss: 0.7885 - val_acc: 0.7013\n",
      "Epoch 24/100\n",
      "614/614 [==============================] - 0s 57us/step - loss: 0.4017 - acc: 0.7834 - val_loss: 0.7855 - val_acc: 0.6688\n",
      "Epoch 25/100\n",
      "614/614 [==============================] - 0s 57us/step - loss: 0.3979 - acc: 0.7687 - val_loss: 0.8380 - val_acc: 0.7338\n",
      "Epoch 26/100\n",
      "614/614 [==============================] - 0s 50us/step - loss: 0.3941 - acc: 0.7948 - val_loss: 0.8558 - val_acc: 0.7208\n",
      "Epoch 27/100\n",
      "614/614 [==============================] - 0s 50us/step - loss: 0.4301 - acc: 0.7720 - val_loss: 0.8104 - val_acc: 0.7013\n",
      "Epoch 28/100\n",
      "614/614 [==============================] - 0s 49us/step - loss: 0.3951 - acc: 0.7736 - val_loss: 0.7878 - val_acc: 0.7208\n",
      "Epoch 29/100\n",
      "614/614 [==============================] - 0s 52us/step - loss: 0.4075 - acc: 0.7801 - val_loss: 0.8410 - val_acc: 0.6753\n",
      "Epoch 30/100\n",
      "614/614 [==============================] - 0s 54us/step - loss: 0.3899 - acc: 0.7883 - val_loss: 0.8280 - val_acc: 0.6623\n",
      "Epoch 31/100\n",
      "614/614 [==============================] - 0s 68us/step - loss: 0.4108 - acc: 0.7704 - val_loss: 0.7590 - val_acc: 0.7403\n",
      "Epoch 32/100\n",
      "614/614 [==============================] - 0s 59us/step - loss: 0.4188 - acc: 0.7622 - val_loss: 0.7785 - val_acc: 0.6948\n",
      "Epoch 33/100\n",
      "614/614 [==============================] - 0s 68us/step - loss: 0.4031 - acc: 0.7834 - val_loss: 0.8822 - val_acc: 0.7143\n",
      "Epoch 34/100\n",
      "614/614 [==============================] - 0s 57us/step - loss: 0.3864 - acc: 0.7736 - val_loss: 0.8086 - val_acc: 0.6558\n",
      "Epoch 35/100\n",
      "614/614 [==============================] - 0s 67us/step - loss: 0.4193 - acc: 0.7638 - val_loss: 0.8135 - val_acc: 0.7013\n",
      "Epoch 36/100\n",
      "614/614 [==============================] - 0s 57us/step - loss: 0.4000 - acc: 0.7801 - val_loss: 0.8283 - val_acc: 0.7143\n",
      "Epoch 37/100\n",
      "614/614 [==============================] - 0s 57us/step - loss: 0.4005 - acc: 0.7752 - val_loss: 0.8337 - val_acc: 0.6558\n",
      "Epoch 38/100\n",
      "614/614 [==============================] - 0s 54us/step - loss: 0.4044 - acc: 0.7736 - val_loss: 0.7709 - val_acc: 0.6558\n",
      "Epoch 39/100\n",
      "614/614 [==============================] - 0s 62us/step - loss: 0.4560 - acc: 0.7264 - val_loss: 0.7901 - val_acc: 0.6623\n",
      "Epoch 40/100\n",
      "614/614 [==============================] - 0s 64us/step - loss: 0.4487 - acc: 0.7150 - val_loss: 0.7151 - val_acc: 0.7143\n",
      "Epoch 41/100\n",
      "614/614 [==============================] - 0s 49us/step - loss: 0.4352 - acc: 0.7638 - val_loss: 0.7731 - val_acc: 0.6948\n",
      "Epoch 42/100\n",
      "614/614 [==============================] - 0s 57us/step - loss: 0.4076 - acc: 0.7687 - val_loss: 0.7556 - val_acc: 0.6623\n",
      "Epoch 43/100\n",
      "614/614 [==============================] - 0s 49us/step - loss: 0.4013 - acc: 0.7834 - val_loss: 0.8321 - val_acc: 0.6883\n",
      "Epoch 44/100\n",
      "614/614 [==============================] - 0s 64us/step - loss: 0.3920 - acc: 0.7932 - val_loss: 0.8562 - val_acc: 0.7208\n",
      "Epoch 45/100\n",
      "614/614 [==============================] - 0s 54us/step - loss: 0.4039 - acc: 0.7590 - val_loss: 0.8274 - val_acc: 0.7208\n",
      "Epoch 46/100\n",
      "614/614 [==============================] - 0s 59us/step - loss: 0.4098 - acc: 0.7622 - val_loss: 1.0186 - val_acc: 0.7273\n",
      "Epoch 47/100\n",
      "614/614 [==============================] - 0s 54us/step - loss: 0.4172 - acc: 0.7785 - val_loss: 0.7717 - val_acc: 0.7013\n",
      "Epoch 48/100\n",
      "614/614 [==============================] - 0s 59us/step - loss: 0.4161 - acc: 0.7671 - val_loss: 0.7815 - val_acc: 0.6429\n",
      "Epoch 49/100\n",
      "614/614 [==============================] - 0s 46us/step - loss: 0.4017 - acc: 0.7736 - val_loss: 0.7648 - val_acc: 0.6753\n",
      "Epoch 50/100\n",
      "614/614 [==============================] - ETA: 0s - loss: 0.3135 - acc: 0.750 - 0s 64us/step - loss: 0.4064 - acc: 0.7752 - val_loss: 0.9351 - val_acc: 0.7468\n",
      "Epoch 51/100\n",
      "614/614 [==============================] - 0s 46us/step - loss: 0.4233 - acc: 0.7655 - val_loss: 0.8851 - val_acc: 0.7468\n",
      "Epoch 52/100\n",
      "614/614 [==============================] - 0s 57us/step - loss: 0.4261 - acc: 0.7671 - val_loss: 0.6737 - val_acc: 0.6948\n",
      "Epoch 53/100\n",
      "614/614 [==============================] - 0s 59us/step - loss: 0.4275 - acc: 0.7769 - val_loss: 0.6887 - val_acc: 0.6883\n",
      "Epoch 54/100\n",
      "614/614 [==============================] - 0s 52us/step - loss: 0.4123 - acc: 0.7801 - val_loss: 0.8255 - val_acc: 0.7338\n",
      "Epoch 55/100\n",
      "614/614 [==============================] - 0s 55us/step - loss: 0.4110 - acc: 0.7801 - val_loss: 0.8517 - val_acc: 0.7078\n",
      "Epoch 56/100\n",
      "614/614 [==============================] - 0s 46us/step - loss: 0.4271 - acc: 0.7638 - val_loss: 0.7475 - val_acc: 0.7078\n",
      "Epoch 57/100\n",
      "614/614 [==============================] - 0s 60us/step - loss: 0.4042 - acc: 0.7769 - val_loss: 0.8049 - val_acc: 0.6948\n",
      "Epoch 58/100\n",
      "614/614 [==============================] - 0s 46us/step - loss: 0.3913 - acc: 0.7850 - val_loss: 0.8481 - val_acc: 0.6883\n",
      "Epoch 59/100\n",
      "614/614 [==============================] - 0s 52us/step - loss: 0.3947 - acc: 0.7899 - val_loss: 0.8713 - val_acc: 0.7273\n",
      "Epoch 60/100\n",
      "614/614 [==============================] - 0s 54us/step - loss: 0.4200 - acc: 0.7752 - val_loss: 0.7486 - val_acc: 0.6234\n",
      "Epoch 61/100\n"
     ]
    },
    {
     "name": "stdout",
     "output_type": "stream",
     "text": [
      "614/614 [==============================] - 0s 50us/step - loss: 0.3844 - acc: 0.8111 - val_loss: 0.8397 - val_acc: 0.6558\n",
      "Epoch 62/100\n",
      "614/614 [==============================] - 0s 50us/step - loss: 0.3903 - acc: 0.7883 - val_loss: 0.7961 - val_acc: 0.6558\n",
      "Epoch 63/100\n",
      "614/614 [==============================] - 0s 52us/step - loss: 0.3947 - acc: 0.7720 - val_loss: 0.7767 - val_acc: 0.6818\n",
      "Epoch 64/100\n",
      "614/614 [==============================] - 0s 46us/step - loss: 0.3939 - acc: 0.7801 - val_loss: 0.8541 - val_acc: 0.6948\n",
      "Epoch 65/100\n",
      "614/614 [==============================] - 0s 47us/step - loss: 0.4077 - acc: 0.7687 - val_loss: 0.7455 - val_acc: 0.6623\n",
      "Epoch 66/100\n",
      "614/614 [==============================] - 0s 47us/step - loss: 0.3932 - acc: 0.7687 - val_loss: 0.8452 - val_acc: 0.6688\n",
      "Epoch 67/100\n",
      "614/614 [==============================] - 0s 46us/step - loss: 0.3998 - acc: 0.7687 - val_loss: 0.7965 - val_acc: 0.6688\n",
      "Epoch 68/100\n",
      "614/614 [==============================] - 0s 49us/step - loss: 0.4014 - acc: 0.7850 - val_loss: 0.9321 - val_acc: 0.6948\n",
      "Epoch 69/100\n",
      "614/614 [==============================] - 0s 46us/step - loss: 0.3922 - acc: 0.7866 - val_loss: 0.8391 - val_acc: 0.7143\n",
      "Epoch 70/100\n",
      "614/614 [==============================] - 0s 49us/step - loss: 0.3854 - acc: 0.7850 - val_loss: 0.8178 - val_acc: 0.6688\n",
      "Epoch 71/100\n",
      "614/614 [==============================] - 0s 49us/step - loss: 0.3892 - acc: 0.7769 - val_loss: 0.8512 - val_acc: 0.7143\n",
      "Epoch 72/100\n",
      "614/614 [==============================] - 0s 52us/step - loss: 0.3992 - acc: 0.7801 - val_loss: 0.9083 - val_acc: 0.7468\n",
      "Epoch 73/100\n",
      "614/614 [==============================] - 0s 49us/step - loss: 0.3818 - acc: 0.7899 - val_loss: 0.8813 - val_acc: 0.7143\n",
      "Epoch 74/100\n",
      "614/614 [==============================] - 0s 52us/step - loss: 0.3806 - acc: 0.7866 - val_loss: 0.7988 - val_acc: 0.6818\n",
      "Epoch 75/100\n",
      "614/614 [==============================] - 0s 49us/step - loss: 0.4059 - acc: 0.7671 - val_loss: 0.9303 - val_acc: 0.7273\n",
      "Epoch 76/100\n",
      "614/614 [==============================] - 0s 52us/step - loss: 0.3957 - acc: 0.7687 - val_loss: 0.9800 - val_acc: 0.7208\n",
      "Epoch 77/100\n",
      "614/614 [==============================] - 0s 47us/step - loss: 0.4105 - acc: 0.7720 - val_loss: 0.8873 - val_acc: 0.7338\n",
      "Epoch 78/100\n",
      "614/614 [==============================] - 0s 47us/step - loss: 0.3892 - acc: 0.7638 - val_loss: 0.8504 - val_acc: 0.7143\n",
      "Epoch 79/100\n",
      "614/614 [==============================] - 0s 46us/step - loss: 0.4084 - acc: 0.7557 - val_loss: 0.8002 - val_acc: 0.6623\n",
      "Epoch 80/100\n",
      "614/614 [==============================] - 0s 46us/step - loss: 0.4147 - acc: 0.7671 - val_loss: 0.8476 - val_acc: 0.7208\n",
      "Epoch 81/100\n",
      "614/614 [==============================] - 0s 49us/step - loss: 0.4021 - acc: 0.7834 - val_loss: 0.9707 - val_acc: 0.7208\n",
      "Epoch 82/100\n",
      "614/614 [==============================] - 0s 46us/step - loss: 0.3922 - acc: 0.7932 - val_loss: 0.7900 - val_acc: 0.6753\n",
      "Epoch 83/100\n",
      "614/614 [==============================] - 0s 50us/step - loss: 0.4000 - acc: 0.7785 - val_loss: 0.7864 - val_acc: 0.6818\n",
      "Epoch 84/100\n",
      "614/614 [==============================] - 0s 47us/step - loss: 0.4135 - acc: 0.7638 - val_loss: 0.7478 - val_acc: 0.7403\n",
      "Epoch 85/100\n",
      "614/614 [==============================] - 0s 49us/step - loss: 0.4083 - acc: 0.7606 - val_loss: 1.0356 - val_acc: 0.7403\n",
      "Epoch 86/100\n",
      "614/614 [==============================] - 0s 44us/step - loss: 0.4246 - acc: 0.7687 - val_loss: 0.8665 - val_acc: 0.7403\n",
      "Epoch 87/100\n",
      "614/614 [==============================] - 0s 54us/step - loss: 0.4282 - acc: 0.7736 - val_loss: 0.8330 - val_acc: 0.7273\n",
      "Epoch 88/100\n",
      "614/614 [==============================] - 0s 49us/step - loss: 0.4187 - acc: 0.7638 - val_loss: 0.9294 - val_acc: 0.6818\n",
      "Epoch 89/100\n",
      "614/614 [==============================] - 0s 50us/step - loss: 0.4125 - acc: 0.7720 - val_loss: 0.8053 - val_acc: 0.7273\n",
      "Epoch 90/100\n",
      "614/614 [==============================] - 0s 49us/step - loss: 0.3932 - acc: 0.7769 - val_loss: 0.8348 - val_acc: 0.7403\n",
      "Epoch 91/100\n",
      "614/614 [==============================] - 0s 50us/step - loss: 0.3861 - acc: 0.7752 - val_loss: 0.8208 - val_acc: 0.7078\n",
      "Epoch 92/100\n",
      "614/614 [==============================] - 0s 46us/step - loss: 0.3806 - acc: 0.7850 - val_loss: 0.8513 - val_acc: 0.6623\n",
      "Epoch 93/100\n",
      "614/614 [==============================] - 0s 47us/step - loss: 0.4102 - acc: 0.7655 - val_loss: 0.8062 - val_acc: 0.7403\n",
      "Epoch 94/100\n",
      "614/614 [==============================] - 0s 47us/step - loss: 0.4025 - acc: 0.7557 - val_loss: 0.9865 - val_acc: 0.6948\n",
      "Epoch 95/100\n",
      "614/614 [==============================] - 0s 46us/step - loss: 0.4184 - acc: 0.7622 - val_loss: 0.8322 - val_acc: 0.7273\n",
      "Epoch 96/100\n",
      "614/614 [==============================] - 0s 50us/step - loss: 0.3909 - acc: 0.7801 - val_loss: 0.9845 - val_acc: 0.7338\n",
      "Epoch 97/100\n",
      "614/614 [==============================] - 0s 47us/step - loss: 0.4277 - acc: 0.7655 - val_loss: 0.8103 - val_acc: 0.7273\n",
      "Epoch 98/100\n",
      "614/614 [==============================] - 0s 50us/step - loss: 0.4432 - acc: 0.7801 - val_loss: 0.6914 - val_acc: 0.7208\n",
      "Epoch 99/100\n",
      "614/614 [==============================] - 0s 50us/step - loss: 0.4138 - acc: 0.7850 - val_loss: 0.8601 - val_acc: 0.7208\n",
      "Epoch 100/100\n",
      "614/614 [==============================] - 0s 47us/step - loss: 0.4186 - acc: 0.7704 - val_loss: 0.6946 - val_acc: 0.7013\n"
     ]
    },
    {
     "data": {
      "text/plain": [
       "<tensorflow.python.keras.callbacks.History at 0x14e174e0>"
      ]
     },
     "execution_count": 22,
     "metadata": {},
     "output_type": "execute_result"
    }
   ],
   "source": [
    "# Fit the model (training the network) - just for review and testing the codes so use small Epoch\n",
    "model.fit(x_train, y_train, epochs = 100, batch_size=20, validation_data=(x_test, y_test))"
   ]
  },
  {
   "cell_type": "markdown",
   "metadata": {},
   "source": [
    "## 5. Check and save the model"
   ]
  },
  {
   "cell_type": "code",
   "execution_count": 23,
   "metadata": {
    "scrolled": false
   },
   "outputs": [
    {
     "name": "stdout",
     "output_type": "stream",
     "text": [
      "_________________________________________________________________\n",
      "Layer (type)                 Output Shape              Param #   \n",
      "=================================================================\n",
      "dense (Dense)                (None, 15)                135       \n",
      "_________________________________________________________________\n",
      "dense_1 (Dense)              (None, 10)                160       \n",
      "_________________________________________________________________\n",
      "dense_2 (Dense)              (None, 8)                 88        \n",
      "_________________________________________________________________\n",
      "dropout (Dropout)            (None, 8)                 0         \n",
      "_________________________________________________________________\n",
      "dense_3 (Dense)              (None, 1)                 9         \n",
      "=================================================================\n",
      "Total params: 392\n",
      "Trainable params: 392\n",
      "Non-trainable params: 0\n",
      "_________________________________________________________________\n"
     ]
    }
   ],
   "source": [
    "# Check model summary\n",
    "model.summary()"
   ]
  },
  {
   "cell_type": "code",
   "execution_count": 24,
   "metadata": {},
   "outputs": [],
   "source": [
    "# save the model\n",
    "model.save('weights.h5')"
   ]
  }
 ],
 "metadata": {
  "kernelspec": {
   "display_name": "Python 3",
   "language": "python",
   "name": "python3"
  },
  "language_info": {
   "codemirror_mode": {
    "name": "ipython",
    "version": 3
   },
   "file_extension": ".py",
   "mimetype": "text/x-python",
   "name": "python",
   "nbconvert_exporter": "python",
   "pygments_lexer": "ipython3",
   "version": "3.6.8"
  }
 },
 "nbformat": 4,
 "nbformat_minor": 2
}
